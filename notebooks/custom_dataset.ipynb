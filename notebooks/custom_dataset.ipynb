{
    "cells": [
        {
            "cell_type": "code",
            "execution_count": null,
            "id": "71c503ce",
            "metadata": {},
            "outputs": [],
            "source": [
                "!pip install -e ."
            ]
        },
        {
            "cell_type": "code",
            "execution_count": 1,
            "id": "cc527b64",
            "metadata": {},
            "outputs": [],
            "source": [
                "samples = {\n",
                "    'arabic': ['كيف حالكم؟', 'صباح الخير'],\n",
                "    'english': ['How are you?','good morning']\n",
                "}"
            ]
        },
        {
            "cell_type": "code",
            "execution_count": 2,
            "id": "24ccd274",
            "metadata": {},
            "outputs": [],
            "source": [
                "from datasets import Dataset\n",
                "data = Dataset.from_dict(samples)"
            ]
        },
        {
            "cell_type": "code",
            "execution_count": 3,
            "id": "1d1b707d",
            "metadata": {},
            "outputs": [
                {
                    "data": {
                        "text/plain": [
                            "DatasetDict({\n",
                            "    train: Dataset({\n",
                            "        features: ['arabic', 'english'],\n",
                            "        num_rows: 1\n",
                            "    })\n",
                            "    test: Dataset({\n",
                            "        features: ['arabic', 'english'],\n",
                            "        num_rows: 1\n",
                            "    })\n",
                            "})"
                        ]
                    },
                    "execution_count": 3,
                    "metadata": {},
                    "output_type": "execute_result"
                }
            ],
            "source": [
                "data = data.train_test_split(test_size=0.5)\n",
                "data"
            ]
        },
        {
            "cell_type": "code",
            "execution_count": 4,
            "id": "9cab1e3c",
            "metadata": {},
            "outputs": [
                {
                    "name": "stderr",
                    "output_type": "stream",
                    "text": [
                        "Pushing split train to the Hub.\n"
                    ]
                },
                {
                    "data": {
                        "application/vnd.jupyter.widget-view+json": {
                            "model_id": "608f685100da499cb8b33b9b10299982",
                            "version_major": 2,
                            "version_minor": 0
                        },
                        "text/plain": [
                            "Pushing dataset shards to the dataset hub:   0%|          | 0/1 [00:00<?, ?it/s]"
                        ]
                    },
                    "metadata": {},
                    "output_type": "display_data"
                },
                {
                    "data": {
                        "application/vnd.jupyter.widget-view+json": {
                            "model_id": "1e90937c7ccd4cb99d7a299d66300f1a",
                            "version_major": 2,
                            "version_minor": 0
                        },
                        "text/plain": [
                            "Creating parquet from Arrow format:   0%|          | 0/1 [00:00<?, ?ba/s]"
                        ]
                    },
                    "metadata": {},
                    "output_type": "display_data"
                },
                {
                    "data": {
                        "application/vnd.jupyter.widget-view+json": {
                            "model_id": "88e518959f764def9ffbd284547ce981",
                            "version_major": 2,
                            "version_minor": 0
                        },
                        "text/plain": [
                            "Deleting unused files from dataset repository:   0%|          | 0/1 [00:00<?, ?it/s]"
                        ]
                    },
                    "metadata": {},
                    "output_type": "display_data"
                },
                {
                    "name": "stderr",
                    "output_type": "stream",
                    "text": [
                        "Pushing split test to the Hub.\n"
                    ]
                },
                {
                    "data": {
                        "application/vnd.jupyter.widget-view+json": {
                            "model_id": "a56ede9b11a94874872785877d872226",
                            "version_major": 2,
                            "version_minor": 0
                        },
                        "text/plain": [
                            "Pushing dataset shards to the dataset hub:   0%|          | 0/1 [00:00<?, ?it/s]"
                        ]
                    },
                    "metadata": {},
                    "output_type": "display_data"
                },
                {
                    "data": {
                        "application/vnd.jupyter.widget-view+json": {
                            "model_id": "1ea718b87c4544aaaa196ead97d3bc8b",
                            "version_major": 2,
                            "version_minor": 0
                        },
                        "text/plain": [
                            "Creating parquet from Arrow format:   0%|          | 0/1 [00:00<?, ?ba/s]"
                        ]
                    },
                    "metadata": {},
                    "output_type": "display_data"
                },
                {
                    "data": {
                        "application/vnd.jupyter.widget-view+json": {
                            "model_id": "0a0d3d83f9134bf69788827082fe042d",
                            "version_major": 2,
                            "version_minor": 0
                        },
                        "text/plain": [
                            "Deleting unused files from dataset repository:   0%|          | 0/1 [00:00<?, ?it/s]"
                        ]
                    },
                    "metadata": {},
                    "output_type": "display_data"
                }
            ],
            "source": [
                "data.push_to_hub('tmp-translation')"
            ]
        },
        {
            "cell_type": "code",
            "execution_count": 5,
            "id": "905d8163",
            "metadata": {},
            "outputs": [],
            "source": [
                "import taqyim as tq"
            ]
        },
        {
            "cell_type": "code",
            "execution_count": 6,
            "id": "81e88231",
            "metadata": {},
            "outputs": [],
            "source": [
                "prompt = \"\"\"\n",
                "Translate the following statements from Arabic to English\n",
                "\"\"\".strip()"
            ]
        },
        {
            "cell_type": "code",
            "execution_count": 7,
            "id": "56bac3df",
            "metadata": {},
            "outputs": [
                {
                    "name": "stdout",
                    "output_type": "stream",
                    "text": [
                        "Downloading and preparing dataset None/None to /home/g201080740/.cache/huggingface/datasets/Zaid___parquet/Zaid--tmp-translation-abbbf6b368d0656c/0.0.0/2a3b91fbd88a2c90d1dbbb32b460cf621d31bd5b05b934492fdef7d8d6f236ec...\n"
                    ]
                },
                {
                    "data": {
                        "application/vnd.jupyter.widget-view+json": {
                            "model_id": "53255aacfebd46d68b255ef6998471e8",
                            "version_major": 2,
                            "version_minor": 0
                        },
                        "text/plain": [
                            "Downloading data files:   0%|          | 0/2 [00:00<?, ?it/s]"
                        ]
                    },
                    "metadata": {},
                    "output_type": "display_data"
                },
                {
                    "data": {
                        "application/vnd.jupyter.widget-view+json": {
                            "model_id": "80a3da27d56148dc9f63c9818469c9ef",
                            "version_major": 2,
                            "version_minor": 0
                        },
                        "text/plain": [
                            "Downloading data:   0%|          | 0.00/1.32k [00:00<?, ?B/s]"
                        ]
                    },
                    "metadata": {},
                    "output_type": "display_data"
                },
                {
                    "data": {
                        "application/vnd.jupyter.widget-view+json": {
                            "model_id": "1cc684c0480a4ed082c4d5fba268f04f",
                            "version_major": 2,
                            "version_minor": 0
                        },
                        "text/plain": [
                            "Downloading data:   0%|          | 0.00/1.32k [00:00<?, ?B/s]"
                        ]
                    },
                    "metadata": {},
                    "output_type": "display_data"
                },
                {
                    "data": {
                        "application/vnd.jupyter.widget-view+json": {
                            "model_id": "88f639165701476bb78f78876bb2d2c6",
                            "version_major": 2,
                            "version_minor": 0
                        },
                        "text/plain": [
                            "Extracting data files:   0%|          | 0/2 [00:00<?, ?it/s]"
                        ]
                    },
                    "metadata": {},
                    "output_type": "display_data"
                },
                {
                    "data": {
                        "application/vnd.jupyter.widget-view+json": {
                            "model_id": "",
                            "version_major": 2,
                            "version_minor": 0
                        },
                        "text/plain": [
                            "Generating train split:   0%|          | 0/1 [00:00<?, ? examples/s]"
                        ]
                    },
                    "metadata": {},
                    "output_type": "display_data"
                },
                {
                    "data": {
                        "application/vnd.jupyter.widget-view+json": {
                            "model_id": "",
                            "version_major": 2,
                            "version_minor": 0
                        },
                        "text/plain": [
                            "Generating test split:   0%|          | 0/1 [00:00<?, ? examples/s]"
                        ]
                    },
                    "metadata": {},
                    "output_type": "display_data"
                },
                {
                    "name": "stdout",
                    "output_type": "stream",
                    "text": [
                        "Dataset parquet downloaded and prepared to /home/g201080740/.cache/huggingface/datasets/Zaid___parquet/Zaid--tmp-translation-abbbf6b368d0656c/0.0.0/2a3b91fbd88a2c90d1dbbb32b460cf621d31bd5b05b934492fdef7d8d6f236ec. Subsequent calls will reuse this data.\n"
                    ]
                },
                {
                    "name": "stderr",
                    "output_type": "stream",
                    "text": [
                        "Found cached dataset parquet (/home/g201080740/.cache/huggingface/datasets/Zaid___parquet/Zaid--tmp-translation-abbbf6b368d0656c/0.0.0/2a3b91fbd88a2c90d1dbbb32b460cf621d31bd5b05b934492fdef7d8d6f236ec)\n"
                    ]
                },
                {
                    "data": {
                        "application/vnd.jupyter.widget-view+json": {
                            "model_id": "",
                            "version_major": 2,
                            "version_minor": 0
                        },
                        "text/plain": [
                            "Casting the dataset:   0%|          | 0/1 [00:00<?, ? examples/s]"
                        ]
                    },
                    "metadata": {},
                    "output_type": "display_data"
                },
                {
                    "data": {
                        "application/vnd.jupyter.widget-view+json": {
                            "model_id": "",
                            "version_major": 2,
                            "version_minor": 0
                        },
                        "text/plain": [
                            "Casting the dataset:   0%|          | 0/1 [00:00<?, ? examples/s]"
                        ]
                    },
                    "metadata": {},
                    "output_type": "display_data"
                }
            ],
            "source": [
                "pipeline = tq.Pipeline(\n",
                "    eval_name = \"translation-test\",\n",
                "    dataset_name=\"Zaid/tmp-translation\",\n",
                "    task_class= \"translation\",\n",
                "    task_description = \"Arabic text translation\",\n",
                "    input_column_name = 'arabic',\n",
                "    target_column_name = 'english',\n",
                "    prompt=prompt,\n",
                "    api_key='<openai-key>',\n",
                "    train_split=\"train\",\n",
                "    test_split=\"test\",\n",
                "    model_name = \"gpt-3.5-turbo-0301\",\n",
                "    max_samples= 1,)"
            ]
        },
        {
            "cell_type": "code",
            "execution_count": 8,
            "id": "dbd6137c",
            "metadata": {},
            "outputs": [
                {
                    "name": "stderr",
                    "output_type": "stream",
                    "text": [
                        "[2023-06-09 08:09:25,259] [registry.py:156] Loading registry from /home/g201080740/evals/evals/registry/evals\n",
                        "[2023-06-09 08:09:25,365] [registry.py:156] Loading registry from /home/g201080740/.evals/evals\n",
                        "[2023-06-09 08:09:26,062] [oaieval.py:213] \u001b[1;35mRun started: 230609050926DONQIOTH\u001b[0m\n",
                        "[2023-06-09 08:09:26,089] [data.py:75] Fetching /home/g201080740/.evals/data/translation-test/samples.jsonl\n",
                        "[2023-06-09 08:09:26,089] [eval.py:32] Evaluating 1 samples\n",
                        "[2023-06-09 08:09:26,093] [eval.py:152] Running in threaded mode with 1 threads!\n",
                        "100%|██████████| 1/1 [00:01<00:00,  1.37s/it]\n",
                        "[2023-06-09 08:09:27,464] [record.py:320] Final report: {'accuracy': 1.0, 'sacrebleu_score': 100.00000000000004, 'sacrebleu_score_eo': 100.00000000000004}. Logged to /home/g201080740/.evals/eval_results/translation-test.jsonl\n",
                        "[2023-06-09 08:09:27,464] [oaieval.py:231] Final report:\n",
                        "[2023-06-09 08:09:27,464] [oaieval.py:233] accuracy: 1.0\n",
                        "[2023-06-09 08:09:27,464] [oaieval.py:233] sacrebleu_score: 100.00000000000004\n",
                        "[2023-06-09 08:09:27,464] [oaieval.py:233] sacrebleu_score_eo: 100.00000000000004\n",
                        "[2023-06-09 08:09:27,465] [record.py:309] Logged 4 rows of events to /home/g201080740/.evals/eval_results/translation-test.jsonl: insert_time=0.958ms\n"
                    ]
                }
            ],
            "source": [
                "pipeline.run()"
            ]
        },
        {
            "cell_type": "code",
            "execution_count": 9,
            "id": "f9386f9c",
            "metadata": {},
            "outputs": [
                {
                    "data": {
                        "text/html": [
                            "<div>\n",
                            "<style scoped>\n",
                            "    .dataframe tbody tr th:only-of-type {\n",
                            "        vertical-align: middle;\n",
                            "    }\n",
                            "\n",
                            "    .dataframe tbody tr th {\n",
                            "        vertical-align: top;\n",
                            "    }\n",
                            "\n",
                            "    .dataframe thead th {\n",
                            "        text-align: right;\n",
                            "    }\n",
                            "</style>\n",
                            "<table border=\"1\" class=\"dataframe\">\n",
                            "  <thead>\n",
                            "    <tr style=\"text-align: right;\">\n",
                            "      <th></th>\n",
                            "      <th>prompt</th>\n",
                            "      <th>Sample</th>\n",
                            "    </tr>\n",
                            "  </thead>\n",
                            "  <tbody>\n",
                            "    <tr>\n",
                            "      <th>0</th>\n",
                            "      <td>كيف حالكم؟</td>\n",
                            "      <td>How are you?</td>\n",
                            "    </tr>\n",
                            "  </tbody>\n",
                            "</table>\n",
                            "</div>"
                        ],
                        "text/plain": [
                            "       prompt        Sample\n",
                            "0  كيف حالكم؟  How are you?"
                        ]
                    },
                    "execution_count": 9,
                    "metadata": {},
                    "output_type": "execute_result"
                }
            ],
            "source": [
                "pipeline.show_results()"
            ]
        },
        {
            "cell_type": "code",
            "execution_count": 10,
            "id": "6f3e00fe",
            "metadata": {},
            "outputs": [
                {
                    "data": {
                        "text/plain": [
                            "[{'accuracy': 1.0,\n",
                            "  'sacrebleu_score': 100.00000000000004,\n",
                            "  'sacrebleu_score_eo': 100.00000000000004}]"
                        ]
                    },
                    "execution_count": 10,
                    "metadata": {},
                    "output_type": "execute_result"
                }
            ],
            "source": [
                "pipeline.get_final_report()"
            ]
        }
    ],
    "metadata": {
        "kernelspec": {
            "display_name": "Python 3 (ipykernel)",
            "language": "python",
            "name": "python3"
        },
        "language_info": {
            "codemirror_mode": {
                "name": "ipython",
                "version": 3
            },
            "file_extension": ".py",
            "mimetype": "text/x-python",
            "name": "python",
            "nbconvert_exporter": "python",
            "pygments_lexer": "ipython3",
            "version": "3.10.11"
        }
    },
    "nbformat": 4,
    "nbformat_minor": 5
}