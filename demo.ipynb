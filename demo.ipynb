{
 "cells": [
  {
   "cell_type": "code",
   "execution_count": null,
   "id": "71c503ce",
   "metadata": {},
   "outputs": [],
   "source": [
    "!pip install -e ."
   ]
  },
  {
   "cell_type": "code",
   "execution_count": 1,
   "id": "905d8163",
   "metadata": {},
   "outputs": [],
   "source": [
    "import taqyim as tq"
   ]
  },
  {
   "cell_type": "code",
   "execution_count": 2,
   "id": "81e88231",
   "metadata": {},
   "outputs": [],
   "source": [
    "prompt = \"\"\"\n",
    "Add diacritics to the follwing statement in Arabic\n",
    "\"\"\".strip()"
   ]
  },
  {
   "cell_type": "code",
   "execution_count": 3,
   "id": "56bac3df",
   "metadata": {},
   "outputs": [
    {
     "name": "stderr",
     "output_type": "stream",
     "text": [
      "Found cached dataset parquet (/home/g201080740/.cache/huggingface/datasets/arbml___parquet/arbml--tashkeelav2-3a67660b18d5119e/0.0.0/2a3b91fbd88a2c90d1dbbb32b460cf621d31bd5b05b934492fdef7d8d6f236ec)\n",
      "Found cached dataset parquet (/home/g201080740/.cache/huggingface/datasets/arbml___parquet/arbml--tashkeelav2-3a67660b18d5119e/0.0.0/2a3b91fbd88a2c90d1dbbb32b460cf621d31bd5b05b934492fdef7d8d6f236ec)\n",
      "Loading cached processed dataset at /home/g201080740/.cache/huggingface/datasets/arbml___parquet/arbml--tashkeelav2-3a67660b18d5119e/0.0.0/2a3b91fbd88a2c90d1dbbb32b460cf621d31bd5b05b934492fdef7d8d6f236ec/cache-a0d90c0d19bfda1f.arrow\n",
      "Loading cached processed dataset at /home/g201080740/.cache/huggingface/datasets/arbml___parquet/arbml--tashkeelav2-3a67660b18d5119e/0.0.0/2a3b91fbd88a2c90d1dbbb32b460cf621d31bd5b05b934492fdef7d8d6f236ec/cache-b1ad7d59dc4c407e.arrow\n"
     ]
    }
   ],
   "source": [
    "pipeline = tq.Pipeline(\n",
    "    eval_name = \"tashkeela-test\",\n",
    "    dataset_name=\"arbml/tashkeelav2\",\n",
    "    task_class= \"diacritization\",\n",
    "    task_description = \"Arabic text diacritization\",\n",
    "    input_column_name = 'text',\n",
    "    target_column_name = 'diacratized',\n",
    "    prompt=prompt,\n",
    "    api_key='<openai-key>',\n",
    "    train_split=\"train\",\n",
    "    test_split=\"test\",\n",
    "    model_name = \"gpt-3.5-turbo-0301\",\n",
    "    max_samples= 2,)"
   ]
  },
  {
   "cell_type": "code",
   "execution_count": 4,
   "id": "dbd6137c",
   "metadata": {},
   "outputs": [
    {
     "name": "stderr",
     "output_type": "stream",
     "text": [
      "[2023-06-09 08:30:51,209] [registry.py:156] Loading registry from /home/g201080740/evals/evals/registry/evals\n",
      "[2023-06-09 08:30:51,314] [registry.py:156] Loading registry from /home/g201080740/.evals/evals\n",
      "[2023-06-09 08:30:52,031] [oaieval.py:213] \u001b[1;35mRun started: 230609053052T5XHVAXG\u001b[0m\n",
      "[2023-06-09 08:30:52,047] [data.py:75] Fetching /home/g201080740/.evals/data/tashkeela-test/samples.jsonl\n",
      "[2023-06-09 08:30:52,048] [eval.py:32] Evaluating 2 samples\n",
      "[2023-06-09 08:30:52,052] [eval.py:152] Running in threaded mode with 1 threads!\n",
      "100%|██████████| 2/2 [00:44<00:00, 22.40s/it]\n",
      "[2023-06-09 08:31:36,851] [record.py:320] Final report: {'der': 8.175, 'wer': 26.285000000000004, 'der*': 6.625, 'wer*': 17.79}. Logged to /home/g201080740/.evals/eval_results/tashkeela-test.jsonl\n",
      "[2023-06-09 08:31:36,851] [oaieval.py:231] Final report:\n",
      "[2023-06-09 08:31:36,851] [oaieval.py:233] der: 8.175\n",
      "[2023-06-09 08:31:36,851] [oaieval.py:233] wer: 26.285000000000004\n",
      "[2023-06-09 08:31:36,851] [oaieval.py:233] der*: 6.625\n",
      "[2023-06-09 08:31:36,851] [oaieval.py:233] wer*: 17.79\n",
      "[2023-06-09 08:31:36,852] [record.py:309] Logged 6 rows of events to /home/g201080740/.evals/eval_results/tashkeela-test.jsonl: insert_time=0.917ms\n"
     ]
    }
   ],
   "source": [
    "pipeline.run()"
   ]
  },
  {
   "cell_type": "code",
   "execution_count": 5,
   "id": "f9386f9c",
   "metadata": {},
   "outputs": [
    {
     "data": {
      "text/html": [
       "<div>\n",
       "<style scoped>\n",
       "    .dataframe tbody tr th:only-of-type {\n",
       "        vertical-align: middle;\n",
       "    }\n",
       "\n",
       "    .dataframe tbody tr th {\n",
       "        vertical-align: top;\n",
       "    }\n",
       "\n",
       "    .dataframe thead th {\n",
       "        text-align: right;\n",
       "    }\n",
       "</style>\n",
       "<table border=\"1\" class=\"dataframe\">\n",
       "  <thead>\n",
       "    <tr style=\"text-align: right;\">\n",
       "      <th></th>\n",
       "      <th>prompt</th>\n",
       "      <th>Sample</th>\n",
       "    </tr>\n",
       "  </thead>\n",
       "  <tbody>\n",
       "    <tr>\n",
       "      <th>0</th>\n",
       "      <td>قال وإن كان فيها شيء بار لا يجوز فإنه حانث قلت...</td>\n",
       "      <td>قال وإن كَان فيها شَيْء بَارّ لا يَجُوز فَإِنّ...</td>\n",
       "    </tr>\n",
       "    <tr>\n",
       "      <th>1</th>\n",
       "      <td>قيام المستحق فقال ابن المواز لا شيء على المشتر...</td>\n",
       "      <td>قِيَامُ المُسْتَحِقّ فَقَالَ ابْنُ الْمَوَازِ:...</td>\n",
       "    </tr>\n",
       "  </tbody>\n",
       "</table>\n",
       "</div>"
      ],
      "text/plain": [
       "                                              prompt  \\\n",
       "0  قال وإن كان فيها شيء بار لا يجوز فإنه حانث قلت...   \n",
       "1  قيام المستحق فقال ابن المواز لا شيء على المشتر...   \n",
       "\n",
       "                                              Sample  \n",
       "0  قال وإن كَان فيها شَيْء بَارّ لا يَجُوز فَإِنّ...  \n",
       "1  قِيَامُ المُسْتَحِقّ فَقَالَ ابْنُ الْمَوَازِ:...  "
      ]
     },
     "execution_count": 5,
     "metadata": {},
     "output_type": "execute_result"
    }
   ],
   "source": [
    "pipeline.show_results()"
   ]
  },
  {
   "cell_type": "code",
   "execution_count": 6,
   "id": "6f3e00fe",
   "metadata": {},
   "outputs": [
    {
     "data": {
      "text/plain": [
       "[{'der': 8.175, 'wer': 26.285000000000004, 'der*': 6.625, 'wer*': 17.79}]"
      ]
     },
     "execution_count": 6,
     "metadata": {},
     "output_type": "execute_result"
    }
   ],
   "source": [
    "pipeline.get_final_report()"
   ]
  }
 ],
 "metadata": {
  "kernelspec": {
   "display_name": "Python 3 (ipykernel)",
   "language": "python",
   "name": "python3"
  },
  "language_info": {
   "codemirror_mode": {
    "name": "ipython",
    "version": 3
   },
   "file_extension": ".py",
   "mimetype": "text/x-python",
   "name": "python",
   "nbconvert_exporter": "python",
   "pygments_lexer": "ipython3",
   "version": "3.10.11"
  }
 },
 "nbformat": 4,
 "nbformat_minor": 5
}
